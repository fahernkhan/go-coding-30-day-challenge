{
 "cells": [
  {
   "cell_type": "markdown",
   "id": "3b97704d",
   "metadata": {},
   "source": [
    "\n",
    "# Real-World Modular ETL Pipeline (Python)\n",
    "\n",
    "Notebook ini menunjukkan contoh implementasi ETL nyata yang dimodularisasi dengan Python. Struktur ini dapat digunakan untuk pipeline skala kecil hingga menengah, dan dapat diadaptasi untuk penggunaan cloud, warehouse, atau batch jobs.\n"
   ]
  },
  {
   "cell_type": "code",
   "execution_count": null,
   "id": "3ad190d8",
   "metadata": {},
   "outputs": [],
   "source": [
    "\n",
    "# Struktur Folder Modular ETL (untuk produksi):\n",
    "# ├── etl/\n",
    "# │   ├── __init__.py\n",
    "# │   ├── extract.py\n",
    "# │   ├── transform.py\n",
    "# │   └── load.py\n",
    "# ├── config/\n",
    "# │   └── settings.py\n",
    "# ├── main.py\n",
    "# └── data/\n",
    "#     └── raw_data.csv\n",
    "\n",
    "# Untuk keperluan notebook, kita akan simulasikan semua modulnya.\n"
   ]
  },
  {
   "cell_type": "code",
   "execution_count": null,
   "id": "731408fb",
   "metadata": {},
   "outputs": [],
   "source": [
    "\n",
    "import pandas as pd\n",
    "\n",
    "# Simulasi data CSV (raw)\n",
    "df = pd.DataFrame({\n",
    "    'customer_id': [101, 102, 103],\n",
    "    'name': ['Alice', 'Bob', 'Charlie'],\n",
    "    'join_date': ['2021-06-01', '2022-01-15', '2020-09-30'],\n",
    "    'purchase_amount': ['100.5', '200', '300.75']\n",
    "})\n",
    "df.to_csv(\"raw_data.csv\", index=False)\n"
   ]
  },
  {
   "cell_type": "code",
   "execution_count": null,
   "id": "47c9fcea",
   "metadata": {},
   "outputs": [],
   "source": [
    "\n",
    "# etl/extract.py\n",
    "import pandas as pd\n",
    "\n",
    "def extract_from_csv(path: str) -> pd.DataFrame:\n",
    "    try:\n",
    "        df = pd.read_csv(path)\n",
    "        print(\"✅ Data berhasil diekstrak\")\n",
    "        return df\n",
    "    except Exception as e:\n",
    "        print(f\"❌ Gagal extract: {e}\")\n",
    "        return pd.DataFrame()\n"
   ]
  },
  {
   "cell_type": "code",
   "execution_count": null,
   "id": "852f3342",
   "metadata": {},
   "outputs": [],
   "source": [
    "\n",
    "# etl/transform.py\n",
    "def transform_customer_data(df):\n",
    "    try:\n",
    "        df['join_date'] = pd.to_datetime(df['join_date'])\n",
    "        df['purchase_amount'] = df['purchase_amount'].astype(float)\n",
    "        df['name'] = df['name'].str.upper()\n",
    "        df['customer_lifetime'] = (pd.Timestamp.now() - df['join_date']).dt.days\n",
    "        print(\"✅ Data berhasil ditransformasi\")\n",
    "        return df\n",
    "    except Exception as e:\n",
    "        print(f\"❌ Gagal transform: {e}\")\n",
    "        return df\n"
   ]
  },
  {
   "cell_type": "code",
   "execution_count": null,
   "id": "0115906b",
   "metadata": {},
   "outputs": [],
   "source": [
    "\n",
    "# etl/load.py\n",
    "def load_to_csv(df, output_path):\n",
    "    try:\n",
    "        df.to_csv(output_path, index=False)\n",
    "        print(f\"✅ Data berhasil dimuat ke {output_path}\")\n",
    "    except Exception as e:\n",
    "        print(f\"❌ Gagal load: {e}\")\n"
   ]
  },
  {
   "cell_type": "code",
   "execution_count": null,
   "id": "5ae4d4ed",
   "metadata": {},
   "outputs": [],
   "source": [
    "\n",
    "# config/settings.py\n",
    "INPUT_PATH = \"raw_data.csv\"\n",
    "OUTPUT_PATH = \"cleaned_data.csv\"\n"
   ]
  },
  {
   "cell_type": "code",
   "execution_count": null,
   "id": "b07d3c7e",
   "metadata": {},
   "outputs": [],
   "source": [
    "\n",
    "# main.py (pipeline ETL)\n",
    "\n",
    "from extract import extract_from_csv\n",
    "from transform import transform_customer_data\n",
    "from load import load_to_csv\n",
    "from settings import INPUT_PATH, OUTPUT_PATH\n",
    "\n",
    "def main_etl():\n",
    "    df_raw = extract_from_csv(INPUT_PATH)\n",
    "    df_clean = transform_customer_data(df_raw)\n",
    "    load_to_csv(df_clean, OUTPUT_PATH)\n",
    "\n",
    "main_etl()\n"
   ]
  },
  {
   "cell_type": "code",
   "execution_count": null,
   "id": "80e9e767",
   "metadata": {},
   "outputs": [],
   "source": [
    "\n",
    "# Simulasi eksekusi ETL secara langsung di notebook\n",
    "from extract import extract_from_csv\n",
    "from transform import transform_customer_data\n",
    "from load import load_to_csv\n",
    "\n",
    "df = extract_from_csv(\"raw_data.csv\")\n",
    "df_clean = transform_customer_data(df)\n",
    "load_to_csv(df_clean, \"cleaned_data.csv\")\n"
   ]
  }
 ],
 "metadata": {},
 "nbformat": 4,
 "nbformat_minor": 5
}
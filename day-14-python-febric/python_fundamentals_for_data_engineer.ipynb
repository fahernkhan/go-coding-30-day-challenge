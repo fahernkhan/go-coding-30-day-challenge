{
  "cells": [
    {
      "cell_type": "markdown",
      "metadata": {},
      "source": [
        "# \ud83d\udcd8 Python Fundamentals for Data Engineer\n",
        "\n",
        "Notebook ini mencakup materi fundamental Python yang umum digunakan dalam pekerjaan Data Engineer.\n",
        "\n",
        "**Topik yang dibahas:**\n",
        "- Struktur Data Dasar\n",
        "- File & Regex\n",
        "- JSON & API\n",
        "- SQL dengan SQLite\n",
        "- Pandas ETL\n",
        "- Logging & Error Handling\n",
        "- OOP & Functional Programming\n",
        "- Environment & Modularisasi\n"
      ]
    },
    {
      "cell_type": "code",
      "execution_count": null,
      "metadata": {},
      "outputs": [],
      "source": [
        "# 1. Variabel & Tipe Data\n",
        "name = \"Fathur\"\n",
        "age = 23\n",
        "is_engineer = True\n",
        "skills = [\"Python\", \"SQL\", \"Cloud\"]\n",
        "salary = 10_000_000\n",
        "\n",
        "print(f\"\ud83d\udc64 {name}, usia {age}, gaji Rp{salary}\")"
      ]
    },
    {
      "cell_type": "code",
      "execution_count": null,
      "metadata": {},
      "outputs": [],
      "source": [
        "# 2. Struktur Data Dasar\n",
        "languages = [\"Python\", \"Java\", \"SQL\"]\n",
        "languages.append(\"Scala\")\n",
        "\n",
        "employee = {\n",
        "    \"id\": 101,\n",
        "    \"name\": \"Budi\",\n",
        "    \"role\": \"Data Engineer\"\n",
        "}\n",
        "\n",
        "status_codes = (200, 404, 500)\n",
        "unique_skills = set([\"SQL\", \"SQL\", \"Python\"])\n",
        "languages, employee, status_codes, unique_skills"
      ]
    },
    {
      "cell_type": "code",
      "execution_count": null,
      "metadata": {},
      "outputs": [],
      "source": [
        "# 3. Control Flow\n",
        "for lang in languages:\n",
        "    if lang == \"Python\":\n",
        "        print(\"\ud83d\udd25 Favorite Language\")\n",
        "    else:\n",
        "        print(f\"Language: {lang}\")"
      ]
    },
    {
      "cell_type": "code",
      "execution_count": null,
      "metadata": {},
      "outputs": [],
      "source": [
        "# 4. Function\n",
        "def calculate_bonus(salary, percentage=10):\n",
        "    return salary * (percentage / 100)\n",
        "\n",
        "bonus = calculate_bonus(salary)\n",
        "print(\"Bonus:\", bonus)"
      ]
    },
    {
      "cell_type": "code",
      "execution_count": null,
      "metadata": {},
      "outputs": [],
      "source": [
        "# 5. File Handling\n",
        "with open(\"output.txt\", \"w\") as f:\n",
        "    f.write(\"This is a log file for Data Engineer\")"
      ]
    },
    {
      "cell_type": "code",
      "execution_count": null,
      "metadata": {},
      "outputs": [],
      "source": [
        "# 6. Regex\n",
        "import re\n",
        "text = \"Email saya fathur@example.com\"\n",
        "email = re.findall(r'\\b[\\w.-]+?@\\w+?\\.\\w+?\\b', text)\n",
        "print(\"\ud83d\udce7 Email ditemukan:\", email)"
      ]
    },
    {
      "cell_type": "code",
      "execution_count": null,
      "metadata": {},
      "outputs": [],
      "source": [
        "# 7. JSON & API\n",
        "import json\n",
        "data = {\n",
        "    \"name\": \"Data Engineer\",\n",
        "    \"level\": \"Entry\",\n",
        "    \"skills\": skills\n",
        "}\n",
        "json_str = json.dumps(data, indent=2)\n",
        "print(\"\ud83d\udce6 JSON:\\n\", json_str)"
      ]
    },
    {
      "cell_type": "code",
      "execution_count": null,
      "metadata": {},
      "outputs": [],
      "source": [
        "# 8. DateTime\n",
        "from datetime import datetime, timedelta\n",
        "now = datetime.now()\n",
        "yesterday = now - timedelta(days=1)\n",
        "print(\"Today:\", now.strftime(\"%Y-%m-%d\"), \"| Yesterday:\", yesterday.strftime(\"%Y-%m-%d\"))"
      ]
    },
    {
      "cell_type": "code",
      "execution_count": null,
      "metadata": {},
      "outputs": [],
      "source": [
        "# 9. SQLite (Simulasi SQL)\n",
        "import sqlite3\n",
        "\n",
        "conn = sqlite3.connect(\":memory:\")\n",
        "cursor = conn.cursor()\n",
        "cursor.execute(\"CREATE TABLE customers (id INTEGER, name TEXT, signup_date DATE)\")\n",
        "cursor.execute(\"INSERT INTO customers VALUES (1, 'Ali', '2024-01-01')\")\n",
        "cursor.execute(\"SELECT * FROM customers\")\n",
        "print(\"\ud83d\udcca SQL Result:\", cursor.fetchall())\n",
        "conn.close()"
      ]
    },
    {
      "cell_type": "code",
      "execution_count": null,
      "metadata": {},
      "outputs": [],
      "source": [
        "# 10. Pandas for ETL\n",
        "import pandas as pd\n",
        "\n",
        "df = pd.DataFrame({\n",
        "    'customer_id': [1, 2],\n",
        "    'name': ['Andi', 'Budi'],\n",
        "    'amount': [200000, 300000]\n",
        "})\n",
        "df['amount_million'] = df['amount'] / 1_000_000\n",
        "df"
      ]
    },
    {
      "cell_type": "code",
      "execution_count": null,
      "metadata": {},
      "outputs": [],
      "source": [
        "# 11. Exception Handling\n",
        "try:\n",
        "    x = 1 / 0\n",
        "except ZeroDivisionError as e:\n",
        "    print(\"\u26a0\ufe0f Error:\", e)"
      ]
    },
    {
      "cell_type": "code",
      "execution_count": null,
      "metadata": {},
      "outputs": [],
      "source": [
        "# 12. Logging\n",
        "import logging\n",
        "logging.basicConfig(level=logging.INFO)\n",
        "logging.info(\"\ud83d\ude80 ETL process started\")"
      ]
    },
    {
      "cell_type": "code",
      "execution_count": null,
      "metadata": {},
      "outputs": [],
      "source": [
        "# 13. Lambda, Map, Filter, Reduce\n",
        "from functools import reduce\n",
        "\n",
        "numbers = [1, 2, 3, 4, 5]\n",
        "squares = list(map(lambda x: x**2, numbers))\n",
        "even = list(filter(lambda x: x % 2 == 0, numbers))\n",
        "summed = reduce(lambda x, y: x + y, numbers)\n",
        "print(\"Squares:\", squares, \"| Even:\", even, \"| Sum:\", summed)"
      ]
    },
    {
      "cell_type": "code",
      "execution_count": null,
      "metadata": {},
      "outputs": [],
      "source": [
        "# 14. OOP Dasar\n",
        "class DataEngineer:\n",
        "    def __init__(self, name, skill):\n",
        "        self.name = name\n",
        "        self.skill = skill\n",
        "\n",
        "    def introduce(self):\n",
        "        print(f\"Hi, I'm {self.name}, skilled in {', '.join(self.skill)}\")\n",
        "\n",
        "de = DataEngineer(\"Nanda\", [\"Python\", \"DBT\", \"Cloud\"])\n",
        "de.introduce()"
      ]
    },
    {
      "cell_type": "code",
      "execution_count": null,
      "metadata": {},
      "outputs": [],
      "source": [
        "# 15. OS & Environment\n",
        "import os\n",
        "os.environ[\"API_KEY\"] = \"123456\"\n",
        "print(\"\ud83d\udd10 API_KEY:\", os.getenv(\"API_KEY\"))"
      ]
    }
  ],
  "metadata": {
    "kernelspec": {
      "display_name": "Python 3",
      "language": "python",
      "name": "python3"
    },
    "language_info": {
      "name": "python",
      "version": "3.10"
    }
  },
  "nbformat": 4,
  "nbformat_minor": 5
}